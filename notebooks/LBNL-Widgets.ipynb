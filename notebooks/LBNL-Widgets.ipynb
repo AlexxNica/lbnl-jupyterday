{
 "cells": [
  {
   "cell_type": "markdown",
   "metadata": {
    "slideshow": {
     "slide_type": "slide"
    }
   },
   "source": [
    "# Widgets"
   ]
  },
  {
   "cell_type": "markdown",
   "metadata": {},
   "source": [
    "## What are widgets ?"
   ]
  },
  {
   "cell_type": "markdown",
   "metadata": {},
   "source": [
    "The goal of Jupyter and IPython project is to minimize the amount of effor to explore and communicate results about data analysis."
   ]
  },
  {
   "cell_type": "markdown",
   "metadata": {},
   "source": [
    "In exploratory data analysis, we often need to tweek parameters. Widgets are here to improve\n",
    "the ability to tweek and explore parameter both from user and developper point of view.\n",
    "Widgets allow quick manipulation, and developement of interactive functions. "
   ]
  },
  {
   "cell_type": "markdown",
   "metadata": {},
   "source": [
    "One of the goals of the Jupyter Notebook is to minimize the “distance” the user is from their data.  This means allowing the user to quickly view and manipulate the data.  "
   ]
  },
  {
   "cell_type": "markdown",
   "metadata": {
    "collapsed": false
   },
   "source": [
    "| ![](images/inputoutput.PNG)                                                                           | ![](images/widgets.PNG)                                                                                                                      |\n",
    "|-------------------------------------------------------------------------------------------------------|----------------------------------------------------------------------------------------------------------------------------------------------|\n",
    "| Before the widgets, this was just the segmentation of code and results from executing those segments. | Widgets further decrease the distance between the user and their data by allowing UI interactions to directly manipulate data in the kernel. |"
   ]
  },
  {
   "cell_type": "markdown",
   "metadata": {},
   "source": [
    "# Interact"
   ]
  },
  {
   "cell_type": "markdown",
   "metadata": {},
   "source": [
    "The `interact` function (`IPython.html.widgets.interact`) automatically creates user interface (UI) controls for exploring code and data interactively. It is the easiest way to get started using IPython's widgets."
   ]
  },
  {
   "cell_type": "code",
   "execution_count": null,
   "metadata": {
    "collapsed": false
   },
   "outputs": [],
   "source": [
    "from __future__ import print_function\n",
    "from IPython.html.widgets import interact, interactive, fixed\n",
    "from IPython.html import widgets"
   ]
  },
  {
   "cell_type": "markdown",
   "metadata": {},
   "source": [
    "## Basic `interact`\n",
    "\n",
    "At the most basic level, `interact` autogenerates UI controls for function arguments, and then calls the function with those arguments when you manipulate the controls interactively. To use `interact`, you need to define a function that you want to explore. Here is a function that prints its only argument `x`."
   ]
  },
  {
   "cell_type": "code",
   "execution_count": null,
   "metadata": {
    "collapsed": true
   },
   "outputs": [],
   "source": [
    "def f(x):\n",
    "    print(x)"
   ]
  },
  {
   "cell_type": "markdown",
   "metadata": {},
   "source": [
    "\n",
    "When you pass this function as the first argument to `interact` along with an integer keyword argument (`x=10`), a slider is generated and bound to the function."
   ]
  },
  {
   "cell_type": "code",
   "execution_count": null,
   "metadata": {
    "collapsed": false
   },
   "outputs": [],
   "source": [
    "interact(f, x=10);"
   ]
  },
  {
   "cell_type": "markdown",
   "metadata": {},
   "source": [
    "When you move the slider, the function is called and the current value of `x` is printed.\n",
    "\n",
    "If you pass `True` or `False`, `interact` will generate a checkbox:"
   ]
  },
  {
   "cell_type": "code",
   "execution_count": null,
   "metadata": {
    "collapsed": false
   },
   "outputs": [],
   "source": [
    "interact(f, x=True)"
   ]
  },
  {
   "cell_type": "markdown",
   "metadata": {},
   "source": [
    "If you pass a string, `interact` will generate a text area."
   ]
  },
  {
   "cell_type": "code",
   "execution_count": null,
   "metadata": {
    "collapsed": false
   },
   "outputs": [],
   "source": [
    "interact(f, x='Hi there!');"
   ]
  },
  {
   "cell_type": "markdown",
   "metadata": {},
   "source": [
    "`interact` can also be used as a decorator. This allows you to define a function and interact with it in a single"
   ]
  },
  {
   "cell_type": "code",
   "execution_count": null,
   "metadata": {
    "collapsed": false
   },
   "outputs": [],
   "source": [
    "@interact\n",
    "def g(x:True, y=1.0, z=fixed('not interactive')):\n",
    "    print(x, y, z)"
   ]
  },
  {
   "cell_type": "markdown",
   "metadata": {},
   "source": [
    "## Widget abbreviations"
   ]
  },
  {
   "cell_type": "code",
   "execution_count": null,
   "metadata": {
    "collapsed": false
   },
   "outputs": [],
   "source": [
    "@interact(y=(0.1,10.,2.))\n",
    "def g(x:True, y=1.0, z=fixed('- not interactive')):\n",
    "    print(x, y, z)"
   ]
  },
  {
   "cell_type": "markdown",
   "metadata": {},
   "source": [
    "When you pass an integer valued keyword argument (`x=10`) to `interact`, it generates an integer valued slider control with a range of $[-10,+3\\times10]$. In this case `10` is an *abbreviation* for an actual slider widget:\n",
    "\n",
    "```python\n",
    "IntSlider(min=-10,max=30,step=1,value=10)\n",
    "```\n",
    "\n",
    "In fact, we can get the same result if we pass this `IntSlider` as the keyword argument for `x`:"
   ]
  },
  {
   "cell_type": "code",
   "execution_count": null,
   "metadata": {
    "collapsed": false
   },
   "outputs": [],
   "source": [
    "interact(f, x=widgets.IntSlider(min=-10, max=30, step=1, value=10));"
   ]
  },
  {
   "cell_type": "code",
   "execution_count": null,
   "metadata": {
    "collapsed": false
   },
   "outputs": [],
   "source": [
    "interact(f, x=(-10, 30, 1));"
   ]
  },
  {
   "cell_type": "code",
   "execution_count": null,
   "metadata": {
    "collapsed": false
   },
   "outputs": [],
   "source": [
    "interact(f, x=10)"
   ]
  },
  {
   "cell_type": "markdown",
   "metadata": {},
   "source": [
    "This examples clarifies how `interact` proceses its keyword arguments:\n",
    "\n",
    "1. If the keyword argument is `Widget` instance with a `value` attribute, that widget is used. Any widget with a `value` attribute can be used, even custom ones.\n",
    "2. Otherwise, the value is treated as a *widget abbreviation* that is converted to a widget before it is used.\n",
    "\n",
    "The following table gives an overview of different widget abbreviations:\n",
    "\n",
    "<table class=\"table table-condensed table-bordered\">\n",
    "  <tr><td><strong>Keyword argument</strong></td><td><strong>Widget</strong></td></tr>  \n",
    "  <tr><td>`True` or `False`</td><td>Checkbox</td></tr>  \n",
    "  <tr><td>`'Hi there'`</td><td>Text</td></tr>\n",
    "  <tr><td>`value` or `(min,max)` or `(min,max,step)` if integers are passed</td><td>IntSlider</td></tr>\n",
    "  <tr><td>`value` or `(min,max)` or `(min,max,step)` if floats are passed</td><td>FloatSlider</td></tr>\n",
    "  <tr><td>`('orange','apple')` or `{'one':1,'two':2}`</td><td>Dropdown</td></tr>\n",
    "</table>"
   ]
  },
  {
   "cell_type": "code",
   "execution_count": null,
   "metadata": {
    "collapsed": false
   },
   "outputs": [],
   "source": [
    "%matplotlib inline\n",
    "\n",
    "import matplotlib\n",
    "import numpy as np\n",
    "import matplotlib.pyplot as plt\n",
    "\n",
    "import skimage.data as data\n"
   ]
  },
  {
   "cell_type": "code",
   "execution_count": null,
   "metadata": {
    "collapsed": false
   },
   "outputs": [],
   "source": [
    "@interact(cmap=dir(matplotlib.pylab.cm),\n",
    "          interpolation=matplotlib.image._AxesImageBase.interpnames,\n",
    "         img=('camera', 'checkerboard','clock', 'coins', 'horse', 'moon', 'text'))\n",
    "def pl(cmap='gray', interpolation='None', img='camera', n=15):\n",
    "    r = getattr(data, img)()[::n,::n]\n",
    "    plt.imshow(r, cmap=cmap, interpolation=interpolation)"
   ]
  },
  {
   "cell_type": "markdown",
   "metadata": {},
   "source": [
    "# Interactive"
   ]
  },
  {
   "cell_type": "markdown",
   "metadata": {},
   "source": [
    "In addition to `interact` IPython provides another function, `interactive`, that is useful when you want to reuse the widget that are produced or access the data that is bound to the UI controls."
   ]
  },
  {
   "cell_type": "markdown",
   "metadata": {},
   "source": [
    "Here is a function that returns the sum of its two arguments."
   ]
  },
  {
   "cell_type": "code",
   "execution_count": null,
   "metadata": {
    "collapsed": true
   },
   "outputs": [],
   "source": [
    "def f(a, b):\n",
    "    return a+b"
   ]
  },
  {
   "cell_type": "markdown",
   "metadata": {},
   "source": [
    "Unlike `interact`, `interactive` returns a `Widget` instance rather than immediately displaying the widget."
   ]
  },
  {
   "cell_type": "code",
   "execution_count": null,
   "metadata": {
    "collapsed": true
   },
   "outputs": [],
   "source": [
    "w = interactive(f, a=10, b=20)"
   ]
  },
  {
   "cell_type": "code",
   "execution_count": null,
   "metadata": {
    "collapsed": true
   },
   "outputs": [],
   "source": [
    "from IPython.display import display\n",
    "display(w)"
   ]
  },
  {
   "cell_type": "markdown",
   "metadata": {},
   "source": [
    "At this point, the UI controls work just like they would if `interact` had been used. You can manipulate them interactively and the function will be called. However, the widget instance returned by `interactive` also give you access to the current keyword arguments and return value of the underlying Python function.\n",
    "\n",
    "Here are the current keyword arguments. If you rerun this cell after manipulating the sliders, the values will have changed."
   ]
  },
  {
   "cell_type": "code",
   "execution_count": null,
   "metadata": {
    "collapsed": true
   },
   "outputs": [],
   "source": [
    "w.children[0].value = 17"
   ]
  },
  {
   "cell_type": "code",
   "execution_count": null,
   "metadata": {
    "collapsed": false
   },
   "outputs": [],
   "source": [
    "w.kwargs"
   ]
  },
  {
   "cell_type": "code",
   "execution_count": null,
   "metadata": {
    "collapsed": false
   },
   "outputs": [],
   "source": [
    "w.children[0]"
   ]
  },
  {
   "cell_type": "code",
   "execution_count": null,
   "metadata": {
    "collapsed": true
   },
   "outputs": [],
   "source": [
    "w.children[1]"
   ]
  },
  {
   "cell_type": "code",
   "execution_count": null,
   "metadata": {
    "collapsed": false
   },
   "outputs": [],
   "source": [
    "from IPython.html.widgets import IntSlider, jslink\n",
    "wmax = IntSlider(value=20, min=10, max=20)\n",
    "\n",
    "jslink((wmax,'value'),(w.children[0], 'max'))\n",
    "\n",
    "wmax"
   ]
  },
  {
   "cell_type": "markdown",
   "metadata": {},
   "source": [
    "### Complex UI"
   ]
  },
  {
   "cell_type": "code",
   "execution_count": null,
   "metadata": {
    "collapsed": false
   },
   "outputs": [],
   "source": [
    "name = widgets.Text(description='Color:', padding=4)\n",
    "color = widgets.Dropdown(description='Background Color:', padding=4, options=['white','darkred', 'orange', 'deepblue', 'green', 'blue', 'indigo', 'violet'])\n",
    "page1 = widgets.Box(children=[name, color], padding=4)\n",
    "\n",
    "age = widgets.IntSlider(description='Age:', padding=4, min=0, max=120, value=50)\n",
    "gender = widgets.RadioButtons(description='LBL Staff:', padding=4, options=['yes', 'no', 'other'])\n",
    "page2 = widgets.Box(children=[age, gender], padding=4)\n",
    "\n",
    "tabs = widgets.Tab(children=[page1, page2])\n",
    "display(tabs)\n",
    "\n",
    "widgets.jslink((color, \"selected_label\") , (name, 'background_color'))\n",
    "widgets.jslink((name, \"value\") , (name, 'color'))\n",
    "widgets.jslink((name, \"value\") , (color, 'color'))\n",
    "widgets.jslink((color, \"selected_label\") , (name, 'background_color'))\n",
    "widgets.jslink((color, \"selected_label\") , (color, 'background_color'))\n",
    "\n",
    "tabs.set_title(0, 'Name')\n",
    "tabs.set_title(1, 'Details')"
   ]
  },
  {
   "cell_type": "markdown",
   "metadata": {},
   "source": [
    "## full example"
   ]
  },
  {
   "cell_type": "code",
   "execution_count": null,
   "metadata": {
    "collapsed": false
   },
   "outputs": [],
   "source": [
    "%matplotlib inline\n",
    "from IPython.html.widgets import interact, interactive\n",
    "from IPython.display import clear_output, display, HTML\n",
    "import numpy as np\n",
    "from scipy import integrate\n",
    "\n",
    "from matplotlib import pyplot as plt\n",
    "from mpl_toolkits.mplot3d import Axes3D\n",
    "from matplotlib.colors import cnames\n",
    "from matplotlib import animation"
   ]
  },
  {
   "cell_type": "code",
   "execution_count": null,
   "metadata": {
    "collapsed": true
   },
   "outputs": [],
   "source": [
    "def solve_lorenz(N=10, angle=0.0, max_time=4.0, σ=10.0, β=8./3, ρ=28.0):\n",
    "\n",
    "    fig = plt.figure()\n",
    "    ax = fig.add_axes([0, 0, 1, 1], projection='3d')\n",
    "    ax.axis('off')\n",
    "\n",
    "    # prepare the axes limits\n",
    "    ax.set_xlim((-25, 25))\n",
    "    ax.set_ylim((-35, 35))\n",
    "    ax.set_zlim((5, 55))\n",
    "    \n",
    "    def lorenz_deriv(x_y_z, t0, σ=σ, β=β, ρ=ρ):\n",
    "        \"\"\"Compute the time-derivative of a Lorenz system.\"\"\"\n",
    "        x, y, z = x_y_z\n",
    "        return [σ * (y - x), x * (ρ - z) - y, x * y - β * z]\n",
    "\n",
    "    # Choose random starting points, uniformly distributed from -15 to 15\n",
    "    np.random.seed(1)\n",
    "    x0 = -15 + 30 * np.random.random((N, 3))\n",
    "\n",
    "    # Solve for the trajectories\n",
    "    t = np.linspace(0, max_time, int(250*max_time))\n",
    "    x_t = np.asarray([integrate.odeint(lorenz_deriv, x0i, t)\n",
    "                      for x0i in x0])\n",
    "    \n",
    "    # choose a different color for each trajectory\n",
    "    colors = plt.cm.jet(np.linspace(0, 1, N))\n",
    "\n",
    "    for i in range(N):\n",
    "        x, y, z = x_t[i,:,:].T\n",
    "        lines = ax.plot(x, y, z, '-', c=colors[i])\n",
    "        plt.setp(lines, linewidth=2)\n",
    "\n",
    "    ax.view_init(30, angle)\n",
    "    plt.show()\n",
    "\n",
    "    return t, x_t"
   ]
  },
  {
   "cell_type": "code",
   "execution_count": null,
   "metadata": {
    "collapsed": false
   },
   "outputs": [],
   "source": [
    "ww = interactive(matplotlib.style.use, name=list(matplotlib.style.library.keys()))\n",
    "w = interactive(solve_lorenz, angle=(0.,360.), σ=(0.0,50.0), ρ=(0.0,50.0), β=fixed(3))\n",
    "display(ww, w)"
   ]
  },
  {
   "cell_type": "markdown",
   "metadata": {},
   "source": [
    "# Custom widgets"
   ]
  },
  {
   "cell_type": "markdown",
   "metadata": {},
   "source": [
    "Widgets"
   ]
  },
  {
   "cell_type": "code",
   "execution_count": null,
   "metadata": {
    "collapsed": false
   },
   "outputs": [],
   "source": [
    "from IPython.html.widgets import DOMWidget\n",
    "from IPython.display import display\n",
    "from IPython.utils.traitlets import Unicode, Bool\n",
    "class ColorWidget(DOMWidget):\n",
    "    _view_module = Unicode('ColorViewModule', sync=True)\n",
    "    _view_name = Unicode('ColorView', sync=True)\n",
    "    \n",
    "    ## define values that will be synced\n",
    "    value = Unicode('#990000', sync=True)\n",
    "    type = Unicode('color', sync=True)\n",
    "    verbose = Bool(False, sync=True)\n",
    "    \n",
    "    \n",
    "    def _value_changed(self, old, new):\n",
    "        if(self.verbose):\n",
    "            print('value have changed from ', old, 'to', new)"
   ]
  },
  {
   "cell_type": "code",
   "execution_count": null,
   "metadata": {
    "collapsed": false
   },
   "outputs": [],
   "source": [
    "%%javascript\n",
    "delete requirejs.s.contexts._.defined.ColorViewModule;\n",
    "define('ColorViewModule', ['jquery', 'widgets/js/widget'], function($, widget) {\n",
    "    \n",
    "    var ColorView = widget.DOMWidgetView.extend({\n",
    "        render: function() {\n",
    "            // create a dom element:\n",
    "            this.colorpicker = $('<input/>');\n",
    "            this.$el.append(this.colorpicker);\n",
    "            \n",
    "            // bind some backbone.js events to update the dom on change\n",
    "            this.listenTo(this.model, 'change:value', this._update_value, this);\n",
    "            this.listenTo(this.model, 'change:type', this._update_value, this);\n",
    "            this._update_value();\n",
    "            \n",
    "            this.colorpicker.on('change', this._set_value.bind(this));\n",
    "        },\n",
    "        _update_value: function() {\n",
    "            this.colorpicker.val(this.model.get('value'));\n",
    "            this.colorpicker.attr('type', this.model.get('type'));\n",
    "        },\n",
    "        _set_value: function() {\n",
    "            this.model.set('value', this.colorpicker.val());\n",
    "            this.touch();\n",
    "        }\n",
    "    });\n",
    "    \n",
    "    return {ColorView: ColorView};\n",
    "});\n"
   ]
  },
  {
   "cell_type": "code",
   "execution_count": null,
   "metadata": {
    "collapsed": false
   },
   "outputs": [],
   "source": [
    "w = ColorWidget()\n",
    "display(w,w)"
   ]
  },
  {
   "cell_type": "code",
   "execution_count": null,
   "metadata": {
    "collapsed": false
   },
   "outputs": [],
   "source": [
    "w.value = '#44AAFF'"
   ]
  },
  {
   "cell_type": "code",
   "execution_count": null,
   "metadata": {
    "collapsed": false
   },
   "outputs": [],
   "source": [
    "w"
   ]
  },
  {
   "cell_type": "raw",
   "metadata": {},
   "source": []
  },
  {
   "cell_type": "code",
   "execution_count": null,
   "metadata": {
    "collapsed": false
   },
   "outputs": [],
   "source": [
    "w.value"
   ]
  },
  {
   "cell_type": "code",
   "execution_count": null,
   "metadata": {
    "collapsed": true
   },
   "outputs": [],
   "source": [
    "w.verbose = True"
   ]
  },
  {
   "cell_type": "code",
   "execution_count": null,
   "metadata": {
    "collapsed": false
   },
   "outputs": [],
   "source": [
    "w.type = 'text'"
   ]
  },
  {
   "cell_type": "markdown",
   "metadata": {
    "collapsed": true,
    "slideshow": {
     "slide_type": "slide"
    }
   },
   "source": [
    "## How?"
   ]
  },
  {
   "cell_type": "markdown",
   "metadata": {},
   "source": [
    "IPython widgets are interactive elements, think sliders, textboxes, buttons, that have representations both in the kernel (place where code is executed) and the front-end (the Notebook web interface).  To do this, a clean, well abstracted communication layer must exist."
   ]
  },
  {
   "cell_type": "markdown",
   "metadata": {
    "slideshow": {
     "slide_type": "slide"
    }
   },
   "source": [
    "##Comms"
   ]
  },
  {
   "cell_type": "markdown",
   "metadata": {},
   "source": [
    "This is where Jupyter notebook “comms” come into play.  The comm API is a symmetric, asynchronous, fire and forget style messaging API.  It allows the programmer to send JSON-able blobs between the front-end and the back-end.  The comm API hides the complexity of the webserver, ZMQ, and websockets."
   ]
  },
  {
   "cell_type": "markdown",
   "metadata": {},
   "source": [
    "![](images/transport.svg)"
   ]
  },
  {
   "cell_type": "markdown",
   "metadata": {
    "collapsed": true,
    "slideshow": {
     "slide_type": "slide"
    }
   },
   "source": [
    "## Synchronized state"
   ]
  },
  {
   "cell_type": "markdown",
   "metadata": {},
   "source": [
    "Using comms, the widget base layer is designed to keep state in sync.  In the kernel, a Widget instance exists.  This Widget instance has a corresponding WidgetModel instance in the front-end.  The Widget and WidgetModel store the same state.  The widget framework ensures both models are kept in sync with eachother.  If the WidgetModel is changed in the front-end, the Widget receives the same change in the kernel.  Vise versa, if the Widget in the kernel is changed, the WidgetModel in the front-end receives the same change.  There is no single source of truth, both models have the same precedence.  Although a notebook has the notion of cells, neither Widget or WidgetModel are bound to any single cell."
   ]
  },
  {
   "cell_type": "markdown",
   "metadata": {},
   "source": [
    "![](images/state_sync.svg)"
   ]
  },
  {
   "cell_type": "markdown",
   "metadata": {
    "slideshow": {
     "slide_type": "slide"
    }
   },
   "source": [
    "## Views"
   ]
  },
  {
   "cell_type": "markdown",
   "metadata": {},
   "source": [
    "In order for the user to interact with widgets on a cell by cell basis, the WidgetModels are represented by WidgetViews.  Any single WidgetView is bound to a single cell.  Multiple WidgetViews can be linked to a single WidgetModel.  This is how you can redisplay the same Widget multiple times and it still works.  To accomplish this, the widget framework uses Backbone.js.  In a traditional MVC design, the WidgetModel is the (M)odel, and the WidgetView is both the (V)iew and (C)ontroller. Meaning that, the views both display the state of the model and manipulate it.  Think about a slider control, it both displays the value and allows the user to change the value by dragging the slide handle."
   ]
  },
  {
   "cell_type": "markdown",
   "metadata": {},
   "source": [
    "![](images/assoc.svg)"
   ]
  },
  {
   "cell_type": "markdown",
   "metadata": {
    "slideshow": {
     "slide_type": "slide"
    }
   },
   "source": [
    "##Code execution"
   ]
  },
  {
   "cell_type": "markdown",
   "metadata": {},
   "source": [
    "The user code required to display a simple FloatSlider widget is:\n",
    "\n",
    "```python\n",
    "from IPython.html.widgets import FloatSlider\n",
    "from IPython.display import display\n",
    "slider = FloatSlider()\n",
    "display(slider)\n",
    "```\n",
    "\n",
    "In order to understand how a widget is displayed, one must understand how code is executed in the Notebook.  Execution begins in the code cell.  A user event triggers the code cell to send an evaluate code message to the kernel, containing all of the code in the code cell.  This message is given a GUID, which the front-end associates to the code cell, and remembers it (**important**)."
   ]
  },
  {
   "cell_type": "markdown",
   "metadata": {},
   "source": [
    "![](images/execute.svg)"
   ]
  },
  {
   "cell_type": "markdown",
   "metadata": {
    "slideshow": {
     "slide_type": "subslide"
    }
   },
   "source": [
    "Once that message is received by the kernel, the kernel immediately sends the front-end an “I’m busy” status message.  The kernel then proceeds to execute the code."
   ]
  },
  {
   "cell_type": "markdown",
   "metadata": {},
   "source": [
    "![](images/busy.svg)"
   ]
  },
  {
   "cell_type": "markdown",
   "metadata": {
    "slideshow": {
     "slide_type": "slide"
    }
   },
   "source": [
    "##Model construction"
   ]
  },
  {
   "cell_type": "markdown",
   "metadata": {},
   "source": [
    "When a Widget is constructed in the kernel, the first thing that happens is that a comm is constructed and associated with the widget.  When the comm is constructed, it is given a GUID (globally unique identifier).  A comm-open message is sent to the front-end, with metadata stating that the comm is a widget comm and what the corresponding WidgetModel class is.  "
   ]
  },
  {
   "cell_type": "markdown",
   "metadata": {},
   "source": [
    "![](images/widgetcomm.svg)"
   ]
  },
  {
   "cell_type": "markdown",
   "metadata": {
    "slideshow": {
     "slide_type": "subslide"
    }
   },
   "source": [
    "The WidgetModel class is specified my module and name.  Require.js is then used to asynchronously load the WidgetModel class. The message triggers a comm to be created in the front-end with same GUID as the back-end.  Then, the new comm gets passed into the WidgetManager in the front-end, which creates an instance of the WidgetModel class, linked to the comm.  Both the Widget and WidgetModel repurpose the comm GUID as their own."
   ]
  },
  {
   "cell_type": "markdown",
   "metadata": {},
   "source": [
    "![](images/widgetcomm2.svg)"
   ]
  },
  {
   "cell_type": "markdown",
   "metadata": {
    "slideshow": {
     "slide_type": "subslide"
    }
   },
   "source": [
    "Asynchronously, the kernel sends an initial state push, containing all of the initial state of the Widget, to the front-end, immediately after the comm-open message.  This state message may or may not be received by the time the WidgetModel is constructed.  Regardless, the message is cached and gets processed once the WidgetModel has been constructed.  The initial state push is what causes the WidgetModel in the front-end to become in sync with the Widget in the kernel."
   ]
  },
  {
   "cell_type": "markdown",
   "metadata": {},
   "source": [
    "![](images/state.svg)"
   ]
  },
  {
   "cell_type": "markdown",
   "metadata": {
    "slideshow": {
     "slide_type": "slide"
    }
   },
   "source": [
    "##Displaying a view"
   ]
  },
  {
   "cell_type": "markdown",
   "metadata": {},
   "source": [
    "After the Widget has been constructed, it can be displayed.  Calling `display(widgetinstance)` causes a specially named repr method in the widget to run.  This method sends a message to the front-end that tells the front-end to construct and display a widget view.  The message is in response to the original code execution message, and the original message’s GUID is stored in the new message’s header.  When the front-end receives the message, it uses the original messsage’s GUID to determine what cell the new view should belong to.  Then, the view is created, using the WidgetView class specified in the WidgetModel’s state.  The same require.js method is used to load the view class.  Once the class is loaded, an instance of it is constructed, displayed in the right cell, and registers listeners for changes of the model."
   ]
  },
  {
   "cell_type": "markdown",
   "metadata": {},
   "source": [
    "![](images/display.svg)"
   ]
  },
  {
   "cell_type": "markdown",
   "metadata": {
    "slideshow": {
     "slide_type": "slide"
    }
   },
   "source": [
    "##Widget skeleton"
   ]
  },
  {
   "cell_type": "markdown",
   "metadata": {},
   "source": [
    "Since widgets exist in both the front-end and kernel, they consist of both Python (if the kernel is IPython) and Javascript code.  A boilerplate widget can be seen below:\n",
    "\n",
    "Python:\n",
    "```python\n",
    "from IPython.html.widgets import DOMWidget\n",
    "from IPython.utils.traitlets import Unicode, Int\n",
    " \n",
    "class MyWidget(DOMWidget):\n",
    "\t_view_module = Unicode('nbextensions/mywidget/mywidget', sync=True)\n",
    "\t_view_name = Unicode('MyWidgetView', sync=True)\n",
    "\tcount = Int(sync=True)\n",
    "```\n",
    "\n",
    "JavaScript:\n",
    "```js\n",
    "define(['jquery', 'widgets/js/widget'], function($, widget) {\n",
    "\tvar MyWidgetView = widget.DOMWidgetView.extend({\n",
    "    \trender: function() {\n",
    "        \tMyWidgetView.__super__.render.apply(this, arguments);\n",
    "        \tthis._count_changed();\n",
    "        \tthis.listenTo(this.model, 'change:count', this._count_changed, this);\n",
    "    \t},\n",
    " \n",
    "    \t_count_changed: function() {\n",
    "        \tvar old_value = this.model.previous('count');\n",
    "        \tvar new_value = this.model.get('count');\n",
    "        \t$(this.el).text(String(old_value) + ' -> ' + String(new_value));\n",
    "    \t}\n",
    "\t});\n",
    " \n",
    "\treturn {\n",
    "    \tMyWidgetView: MyWidgetView\n",
    "\t}\n",
    "});\n",
    "```\n",
    "\n",
    "Describing the Python:  \n",
    "\n",
    "The base widget classes are `DOMWidget` and `Widget`.\n",
    "\n",
    "`_view_module` and `_view_name` are how the front-end knows what view class to construct for the model.\n",
    "\n",
    "`sync=True` is what makes the traitlets behave like state.\n",
    "\n",
    "A similarly named `_model_module` and `_model_name` can be used to specify the corresponding WidgetModel.\n",
    "\n",
    "`count` is an example of a custom piece of state.\n",
    "\n",
    "Describing the JavaScript:  \n",
    "\n",
    "The `define` call asynchronously loads the specified dependencies, and then passes them in as arguments into the callback.  Here both jQuery and the base widget module are loaded.\n",
    "\n",
    "Custom views inherit from either `DOMWidgetView` or `WidgetView`.\n",
    "\n",
    "Likewise, custom models inherit from `WidgetModel`.\n",
    "\n",
    "The `render` method is what is called to render the view’s contents.  If the view is a `DOMWidgetView`, the `.el` attribute contains the DOM element that will be displayed on the page.\n",
    "\n",
    "`.listenTo` allows the view to listen to properties of the model for changes.\n",
    "\n",
    "`_count_changed` is an example of a method that could be used to handle model changes.\n",
    "\n",
    "`this.model` is how the corresponding model can be accessed.\n",
    "\n",
    "`this.model.previous` will get the previous value of the trait.\n",
    "\n",
    "`this.model.get` will get the current value of the trait.\n",
    "\n",
    "`this.model.set` followed by `this.save_changes();` changes the model.  The view method `save_changes` is needed to associate the changes with the current view, thus associating any response messages with the view’s cell.\n",
    "\n",
    "The dictionary returned is the public members of the module.\n"
   ]
  },
  {
   "cell_type": "markdown",
   "metadata": {
    "slideshow": {
     "slide_type": "slide"
    }
   },
   "source": [
    "##Installation"
   ]
  },
  {
   "cell_type": "markdown",
   "metadata": {},
   "source": [
    "Because the API of any given widget **must exist in the kernel**, the kernel is the natural place for widgets to be installed.  However, **kernels, as of now, don’t host static assets**.  Instead, static assets are hosted by the webserver, which is the entity that sits between the kernel and the front-end.  This is a problem, because it means widgets have components that need to be **installed both in the webserver and the kernel**.  The kernel components are easy to install, because you can rely on the language’s built in tools.  The static assets for the webserver complicate things, because an extra step is required to let the webserver know where the assets are."
   ]
  },
  {
   "cell_type": "markdown",
   "metadata": {
    "slideshow": {
     "slide_type": "slide"
    }
   },
   "source": [
    "##Static assets"
   ]
  },
  {
   "cell_type": "markdown",
   "metadata": {},
   "source": [
    "Static assets can be made available to the Jupyter notebook webserver a few ways:\n",
    "1.       Custom.js: \n",
    "By placing your static assets inside the custom directory, alongside custom.js, you can load them within custom.js.  The problem with deployment utilizing this method is that the users will have to manually edit their custom.js file.\n",
    "2.       Server extension: \n",
    "You can write a server extension which adds a new handler to the server that hosts your static content.  However, the server extension needs to be registered using a config file, which means the user needs to edit it by hand.   Also, code needs to be written in custom.js to load the static content.\n",
    "3.       Nbextension: \n",
    "By placing your static assets inside the nbextensions directory, they are made available by the `nbextensions/` handler.  Nbextensions also have a mechanism for running your code on page load.  This can be set using the install-nbextension command.\n",
    " \n",
    "Nbextensions are the best solution, for now, because they can be used without manual user intervention."
   ]
  },
  {
   "cell_type": "markdown",
   "metadata": {
    "slideshow": {
     "slide_type": "slide"
    }
   },
   "source": [
    "##Distribution"
   ]
  },
  {
   "cell_type": "markdown",
   "metadata": {},
   "source": [
    "Integrating the static assets with the kernel code is tricky.  Ideally, the user would be able to execute a single command to install the package, kernel and static assets included.  Unfortunately, until project Jupyter solves the packaging problem, this isn’t really possible.  The closest thing is `jupyter-pip`, which is designed to execute the install-nbextension command alongside a pip install.  Unfortunately, this method does not work with wheels.\n",
    "\n",
    "Instead, the best solution for now is to implement a two-step install.  By including an install.py module which calls out to install-nbextension, you can instruct the user to pip install your package and then use python to execute the install script.\n",
    "\n",
    "An example of what this install.py may look like:\n",
    "```python\n",
    "#!/usr/bin/env python\n",
    " \n",
    "# Thanks @takluyver for your cite2c install.py.\n",
    "# Copyright (c) IPython Development Team.\n",
    "# Distributed under the terms of the Modified BSD License.\n",
    " \n",
    "from __future__ import print_function\n",
    " \n",
    "import argparse\n",
    "from os.path import dirname, abspath, join as pjoin\n",
    " \n",
    "from notebook.nbextensions import install_nbextension\n",
    "from notebook.services.config import ConfigManager\n",
    " \n",
    "def install(user=False, symlink=False, enable=False):\n",
    "\t\"\"\"Install the widget nbextension and optionally enable it.\n",
    "\t\n",
    "    Parameters\n",
    "\t----------\n",
    "\tuser: bool\n",
    "    \tInstall for current user instead of system-wide.\n",
    "\tsymlink: bool\n",
    "    \tSymlink instead of copy (for development).\n",
    "\t\"\"\"\n",
    "\tstaticdir = pjoin(dirname(abspath(__file__)), 'static')\n",
    "\tinstall_nbextension(staticdir, destination='widgets', user=user, symlink=symlink)\n",
    "\t\n",
    "    cm = ConfigManager()\n",
    "    cm.update('notebook', {\n",
    "        \"load_extensions\": {\n",
    "            \"widgets/notebook/js/extension\": True,\n",
    "        }\n",
    "    })\n",
    "\n",
    " \n",
    "if __name__ == '__main__':\n",
    " \n",
    "\tparser = argparse.ArgumentParser(description=\"Installs the IPython widgets\")\n",
    "\tparser.add_argument(\"-u\", \"--user\", help=\"Install as current user instead of system-wide\", action=\"store_true\")\n",
    "\tparser.add_argument(\"-s\", \"--symlink\", help=\"Symlink instead of copying files\", action=\"store_true\")\n",
    "\targs = parser.parse_args()\n",
    "\t\n",
    "    install(user=args.user, symlink=args.symlink)\n",
    "```\n",
    "\n",
    "The code in the ‘__main__’ section is argparser code.  The significant code is within the install function. \n",
    "\n",
    "The first line gets the full path to the relative “static” directory, which is home to the static assets of the particular project that this example came from.\n",
    "\n",
    "`install_nbextension` calls the method that actually installs the static contents into the webserver.\n",
    "\n",
    "The `ConfigManager` code is what “activates” the extension, causing the specified static assets to be automatically loaded on page load.\n"
   ]
  },
  {
   "cell_type": "markdown",
   "metadata": {
    "slideshow": {
     "slide_type": "slide"
    }
   },
   "source": [
    "##Conclusion"
   ]
  },
  {
   "cell_type": "markdown",
   "metadata": {},
   "source": [
    "If your package was ipywidgets, installation would then be a matter of executing the following two commands:\n",
    "\n",
    "```\n",
    "pip install ipywidgets\n",
    "python -m ipywidgets.install\n",
    "```"
   ]
  },
  {
   "cell_type": "code",
   "execution_count": null,
   "metadata": {
    "collapsed": false
   },
   "outputs": [],
   "source": [
    "%%html\n",
    "<link rel=\"stylesheet\" type=\"text/css\" href=\"../style.css\">\n",
    "<script>require(['notebook/js/scrollmanager'], function(sm) { IPython.notebook.scroll_manager = new sm.SlideScrollManager(IPython.notebook); });</script>"
   ]
  }
 ],
 "metadata": {
  "kernelspec": {
   "display_name": "Python 3",
   "language": "python",
   "name": "python3"
  },
  "language_info": {
   "codemirror_mode": {
    "name": "ipython",
    "version": 3
   },
   "file_extension": ".py",
   "mimetype": "text/x-python",
   "name": "python",
   "nbconvert_exporter": "python",
   "pygments_lexer": "ipython3",
   "version": "3.4.3"
  }
 },
 "nbformat": 4,
 "nbformat_minor": 0
}
